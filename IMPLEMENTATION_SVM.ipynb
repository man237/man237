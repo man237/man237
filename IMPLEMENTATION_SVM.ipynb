{
  "cells": [
    {
      "cell_type": "markdown",
      "id": "eccd5df9",
      "metadata": {
        "id": "eccd5df9"
      },
      "source": [
        "# Implémentation SVM dans Python From Scratch - Guide étape par étape"
      ]
    },
    {
      "cell_type": "markdown",
      "id": "cac1efce",
      "metadata": {
        "id": "cac1efce"
      },
      "source": [
        "1. Importer les bibliothèques-"
      ]
    },
    {
      "cell_type": "code",
      "execution_count": null,
      "id": "9aae9b41",
      "metadata": {
        "id": "9aae9b41"
      },
      "outputs": [],
      "source": [
        "import numpy as np\n",
        "import matplotlib.pyplot as plt\n",
        "import pandas as pd"
      ]
    },
    {
      "cell_type": "markdown",
      "id": "6bd2aa3c",
      "metadata": {
        "id": "6bd2aa3c"
      },
      "source": [
        "2. Charger le jeu de données"
      ]
    },
    {
      "cell_type": "code",
      "execution_count": null,
      "id": "52c18bdf",
      "metadata": {
        "id": "52c18bdf"
      },
      "outputs": [],
      "source": [
        "data = pd.read_csv(\"C:/Users/LENOVO/Desktop/tp1/Social_Network_Ads.csv\")"
      ]
    },
    {
      "cell_type": "markdown",
      "id": "146dd9ef",
      "metadata": {
        "id": "146dd9ef"
      },
      "source": [
        "3. Divisez le jeu de données en X et Y"
      ]
    },
    {
      "cell_type": "code",
      "execution_count": null,
      "id": "23cf166e",
      "metadata": {
        "id": "23cf166e"
      },
      "outputs": [],
      "source": [
        "X = data.iloc[:, [2, 3]].values\n",
        "y = data.iloc[:, 4].values"
      ]
    },
    {
      "cell_type": "markdown",
      "id": "d6f07821",
      "metadata": {
        "id": "d6f07821"
      },
      "source": [
        "4. Divisez le jeu de données X et Y en l’ensemble d’entraînement et l’ensemble de test"
      ]
    },
    {
      "cell_type": "code",
      "execution_count": null,
      "id": "efea1a8d",
      "metadata": {
        "id": "efea1a8d"
      },
      "outputs": [],
      "source": [
        "from sklearn.model_selection import train_test_split\n",
        "X_train, X_test, y_train, y_test = train_test_split(X, y, test_size = 0.25, random_state = 0)"
      ]
    },
    {
      "cell_type": "markdown",
      "id": "6c039256",
      "metadata": {
        "id": "6c039256"
      },
      "source": [
        "Lors de la division en ensemble de formation et de test, vous devez vous rappeler que 80% à 90% de vos données doivent figurer dans les tests d’entraînement. Et c’est pourquoi j’écris test_size = 0,25.\n",
        "\n",
        "Maintenant, nous avons divisé notre ensemble de données en X_train, X_test, y-train et y_test. L’étape suivante est-"
      ]
    },
    {
      "cell_type": "markdown",
      "id": "232d0362",
      "metadata": {
        "id": "232d0362"
      },
      "source": [
        "5. Effectuer la mise à l’échelle des fonctionnalités"
      ]
    },
    {
      "cell_type": "markdown",
      "id": "6ca1bc29",
      "metadata": {
        "id": "6ca1bc29"
      },
      "source": [
        "Comme vous pouvez le voir dans le jeu de données, toutes les valeurs ne sont pas dans la même plage. Et cela demande beaucoup de temps pour le calcul. Donc, pour surmonter ce problème, nous effectuons une mise à l’échelle des fonctionnalités.\n",
        "\n",
        "La mise à l’échelle des fonctionnalités nous aide à normaliser les données dans une plage particulière."
      ]
    },
    {
      "cell_type": "code",
      "execution_count": null,
      "id": "1ef9fefa",
      "metadata": {
        "id": "1ef9fefa"
      },
      "outputs": [],
      "source": [
        "from sklearn.preprocessing import StandardScaler\n",
        "sc = StandardScaler()\n",
        "X_train = sc.fit_transform(X_train)\n",
        "X_test = sc.transform(X_test)"
      ]
    },
    {
      "cell_type": "markdown",
      "id": "c98ccfb2",
      "metadata": {
        "id": "c98ccfb2"
      },
      "source": [
        "6. Adaptez la SVM à l’ensemble d’entraînement"
      ]
    },
    {
      "cell_type": "code",
      "execution_count": null,
      "id": "40345125",
      "metadata": {
        "id": "40345125",
        "outputId": "408cb3fc-5d6c-4cb6-c72d-1fd0a2f3a38d"
      },
      "outputs": [
        {
          "data": {
            "text/plain": [
              "SVC(random_state=0)"
            ]
          },
          "execution_count": 19,
          "metadata": {},
          "output_type": "execute_result"
        }
      ],
      "source": [
        "from sklearn.svm import SVC\n",
        "classifier = SVC(kernel = 'rbf', random_state = 0)\n",
        "classifier.fit(X_train, y_train)"
      ]
    },
    {
      "cell_type": "markdown",
      "id": "3168943e",
      "metadata": {
        "id": "3168943e"
      },
      "source": [
        "Cette classe SVC nous permet de construire un modèle SVM noyau (linéaire et non linéaire), La valeur par défaut du noyau est 'rbf'. Pourquoi 'rbf', parce qu’il est non linéaire et donne de meilleurs résultats par rapport au linéaire.\n",
        "\n",
        "Le classifier.fit(X_train, y_train) adapte l’algorithme SVM à l’ensemble d’entraînement - X_train et y_train.\n",
        "\n",
        "Maintenant, tout est fait. Il est temps de prédire l’ensemble de tests. Donc, la prochaine étape est...\n",
        "\n",
        "6. Prédire les résultats de l’ensemble de tests"
      ]
    },
    {
      "cell_type": "markdown",
      "id": "d7d19216",
      "metadata": {
        "id": "d7d19216"
      },
      "source": [
        "7. Prédire les résultats de l’ensemble de tests"
      ]
    },
    {
      "cell_type": "code",
      "execution_count": null,
      "id": "17473787",
      "metadata": {
        "id": "17473787"
      },
      "outputs": [],
      "source": [
        "y_pred = classifier.predict(X_test)"
      ]
    },
    {
      "cell_type": "markdown",
      "id": "2771bf1c",
      "metadata": {
        "id": "2771bf1c"
      },
      "source": [
        "8. Faites la matrice de confusion"
      ]
    },
    {
      "cell_type": "code",
      "execution_count": null,
      "id": "c32c34bd",
      "metadata": {
        "id": "c32c34bd",
        "outputId": "3dcddd91-0754-4059-8063-ebde5f2352c2"
      },
      "outputs": [
        {
          "name": "stdout",
          "output_type": "stream",
          "text": [
            "[[64  4]\n",
            " [ 3 29]]\n"
          ]
        },
        {
          "data": {
            "text/plain": [
              "0.93"
            ]
          },
          "execution_count": 23,
          "metadata": {},
          "output_type": "execute_result"
        }
      ],
      "source": [
        "from sklearn.metrics import confusion_matrix, accuracy_score\n",
        "cm = confusion_matrix(y_test, y_pred)\n",
        "print(cm)\n",
        "accuracy_score(y_test,y_pred)"
      ]
    },
    {
      "cell_type": "markdown",
      "id": "9efeac3f",
      "metadata": {
        "id": "9efeac3f"
      },
      "source": [
        "Et nous avons obtenu une précision de 93%.\n",
        "\n",
        "Il est maintenant temps de présenter nos résultats sous une forme visuelle. Donc, la prochaine étape est..."
      ]
    },
    {
      "cell_type": "markdown",
      "id": "31afa5fa",
      "metadata": {
        "id": "31afa5fa"
      },
      "source": [
        "9. Visualisez les résultats de l’ensemble de tests"
      ]
    },
    {
      "cell_type": "code",
      "execution_count": null,
      "id": "58b30e09",
      "metadata": {
        "id": "58b30e09",
        "outputId": "82c4b17a-3928-42e3-f442-afcabac814f2"
      },
      "outputs": [
        {
          "name": "stderr",
          "output_type": "stream",
          "text": [
            "*c* argument looks like a single numeric RGB or RGBA sequence, which should be avoided as value-mapping will have precedence in case its length matches with *x* & *y*.  Please use the *color* keyword-argument or provide a 2-D array with a single row if you intend to specify the same RGB or RGBA value for all points.\n",
            "*c* argument looks like a single numeric RGB or RGBA sequence, which should be avoided as value-mapping will have precedence in case its length matches with *x* & *y*.  Please use the *color* keyword-argument or provide a 2-D array with a single row if you intend to specify the same RGB or RGBA value for all points.\n"
          ]
        },
        {
          "data": {
            "image/png": "[encoded data removed]",
            "text/plain": [
              "<Figure size 432x288 with 1 Axes>"
            ]
          },
          "metadata": {
            "needs_background": "light"
          },
          "output_type": "display_data"
        }
      ],
      "source": [
        "from matplotlib.colors import ListedColormap\n",
        "X_set, y_set = X_test, y_test\n",
        "X1, X2 = np.meshgrid(np.arange(start = X_set[:, 0].min() - 1, stop = X_set[:, 0].max() + 1, step = 0.01),\n",
        "                     np.arange(start = X_set[:, 1].min() - 1, stop = X_set[:, 1].max() + 1, step = 0.01))\n",
        "plt.contourf(X1, X2, classifier.predict(np.array([X1.ravel(), X2.ravel()]).T).reshape(X1.shape),\n",
        "             alpha = 0.75, cmap = ListedColormap(('red', 'green')))\n",
        "plt.xlim(X1.min(), X1.max())\n",
        "plt.ylim(X2.min(), X2.max())\n",
        "for i, j in enumerate(np.unique(y_set)):\n",
        "    plt.scatter(X_set[y_set == j, 0], X_set[y_set == j, 1],\n",
        "                c = ListedColormap(('red', 'green'))(i), label = j)\n",
        "plt.title('SVM (Test set)')\n",
        "plt.xlabel('Age')\n",
        "plt.ylabel('Estimated Salary')\n",
        "plt.legend()\n",
        "plt.show()"
      ]
    },
    {
      "cell_type": "markdown",
      "id": "903c8253",
      "metadata": {
        "id": "903c8253"
      },
      "source": [
        "Ainsi, après avoir exécuté ce code, vous obtiendrez vos résultats visuels-\n",
        "\n",
        "SVM en Python\n",
        "Comme vous pouvez le voir sur l'image, il y a un total de 7 prédictions incorrectes. Il y a 3 prédictions vertes (oui) qui ont été prédites comme rouges (non) et 4 prédictions rouges (non) qui ont été prédites comme vertes (oui).\n",
        "\n",
        "Mais dans l'ensemble, nous avons obtenu une précision de 93 % et c'est formidable.\n",
        "\n",
        "J'espère que vous avez maintenant une meilleure compréhension de la machine à vecteur de support. Il est maintenant temps de conclure."
      ]
    },
    {
      "cell_type": "code",
      "execution_count": null,
      "id": "731a09d1",
      "metadata": {
        "id": "731a09d1"
      },
      "outputs": [],
      "source": [
        ""
      ]
    }
  ],
  "metadata": {
    "kernelspec": {
      "display_name": "Python 3",
      "language": "python",
      "name": "python3"
    },
    "language_info": {
      "codemirror_mode": {
        "name": "ipython",
        "version": 3
      },
      "file_extension": ".py",
      "mimetype": "text/x-python",
      "name": "python",
      "nbconvert_exporter": "python",
      "pygments_lexer": "ipython3",
      "version": "3.8.8"
    },
    "colab": {
      "name": "IMPLEMENTATION  SVM.ipynb",
      "provenance": []
    }
  },
  "nbformat": 4,
  "nbformat_minor": 5
}