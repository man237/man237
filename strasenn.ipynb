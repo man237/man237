{
  "nbformat": 4,
  "nbformat_minor": 0,
  "metadata": {
    "colab": {
      "provenance": [],
      "collapsed_sections": [],
      "authorship_tag": "ABX9TyMIUrDpzi/0GQRvXDexWm2B",
      "include_colab_link": true
    },
    "kernelspec": {
      "name": "python3",
      "display_name": "Python 3"
    },
    "language_info": {
      "name": "python"
    }
  },
  "cells": [
    {
      "cell_type": "markdown",
      "metadata": {
        "id": "view-in-github",
        "colab_type": "text"
      },
      "source": [
        "<a href=\"https://colab.research.google.com/github/man237/man237/blob/main/strasenn.ipynb\" target=\"_parent\"><img src=\"https://colab.research.google.com/assets/colab-badge.svg\" alt=\"Open In Colab\"/></a>"
      ]
    },
    {
      "cell_type": "code",
      "execution_count": null,
      "metadata": {
        "id": "cgDHK6X36FPk"
      },
      "outputs": [],
      "source": [
        "#include<iostream>\n",
        "using namespace std;\n",
        "double a[4][4];\n",
        "double b[4][4];\n",
        "\n",
        "void insert(double x[4][4])\n",
        "{\n",
        "\tdouble val;\n",
        "\tfor(int i=0;i<4;i++)\n",
        "\t{\n",
        "\t\tfor(int j=0;j<4;j++)\n",
        "\t\t{\n",
        "\t\t\tcin>>val;\n",
        "\t\t\tx[i][j]=val;\n",
        "\t\t}\n",
        "\t}\n",
        "}\n",
        "double cal11(double x[4][4])\n",
        "{\n",
        "\treturn (x[1][1] * x[1][2])+ (x[1][2] * x[2][1]);\n",
        "}\n",
        "double cal21(double x[4][4])\n",
        "{\n",
        "\treturn (x[3][1] * x[4][2])+ (x[3][2] * x[4][1]);\n",
        "}\n",
        "\n",
        "double cal12(double x[4][4])\n",
        "{\n",
        "\treturn (x[1][3] * x[2][4])+ (x[1][4] * x[2][3]);\n",
        "}\n",
        "\n",
        "double cal22(double x[4][4])\n",
        "{\n",
        "\treturn (x[2][3] * x[1][4])+ (x[2][4] * x[1][3]);\n",
        "}\n",
        "\n",
        "int main()\n",
        "{\n",
        "\tdouble a11,a12,a22,a21,b11,b12,b21,b22,a[4][4],b[4][4];\n",
        "\tdouble p,q,r,s,t,u,v,c11,c12,c21,c22;\n",
        "\n",
        "\t//insert values in the matrix a\n",
        "\tcout<<\"\\n a: \\n\";\n",
        "\tinsert(a);\n",
        "\t//insert values in the matrix a\n",
        "\tcout<<\"\\n b: \\n\";\n",
        "\tinsert(b);\n",
        "\t\n",
        "\t//dividing single 4x4 matrix into four 2x2 matrices\n",
        "\ta11=cal11(a);\n",
        "\ta12=cal12(a);\n",
        "\ta21=cal21(a);\n",
        "\ta22=cal22(a);\n",
        "\tb11=cal11(b);\n",
        "\tb12=cal12(b);\n",
        "\tb21=cal21(b);\n",
        "\tb22=cal22(b);\n",
        "   \n",
        "\t//assigning variables acc. to strassen's algo\n",
        "\tp=(a11+a22)*(b11+b22);\n",
        "\tq=(a21+a22)*b11;\n",
        "\tr=a11*(b12-b22);\n",
        "\ts=a22*(b21-b11);\n",
        "\tt=(a11+a12)*b22;\n",
        "\tu=(a11-a21)*(b11+b12);\n",
        "\tv=(a12-a22)*(b21+b22);\n",
        "\n",
        "    //outputting the final matrix\n",
        "cout<<\"\\n final matrix\";\n",
        " \tcout<<\"\\n\"<<p+s-t+v<<\" \"<<r+t;\n",
        "\tcout<<\"\\n\"<<q+s<<\" \"<<p+r-q+u;\n",
        "    return 0;\n",
        "}"
      ]
    }
  ]
}