{
  "cells": [
    {
      "cell_type": "markdown",
      "metadata": {
        "id": "view-in-github",
        "colab_type": "text"
      },
      "source": [
        "<a href=\"https://colab.research.google.com/github/man237/man237/blob/main/TP_cc.ipynb\" target=\"_parent\"><img src=\"https://colab.research.google.com/assets/colab-badge.svg\" alt=\"Open In Colab\"/></a>"
      ]
    },
    {
      "cell_type": "markdown",
      "id": "3939b766",
      "metadata": {
        "id": "3939b766"
      },
      "source": [
        "# nom et  prenom: kenne takoudjou franck manuel \n",
        "\n",
        "# matricule: 19M2074"
      ]
    },
    {
      "cell_type": "markdown",
      "id": "1c702b27",
      "metadata": {
        "id": "1c702b27"
      },
      "source": [
        "1. Importer les bibliothèques-"
      ]
    },
    {
      "cell_type": "code",
      "execution_count": null,
      "id": "f3084395",
      "metadata": {
        "id": "f3084395"
      },
      "outputs": [],
      "source": [
        "import numpy as np\n",
        "import matplotlib.pyplot as plt\n",
        "import pandas as pd"
      ]
    },
    {
      "cell_type": "markdown",
      "id": "f77bc5fd",
      "metadata": {
        "id": "f77bc5fd"
      },
      "source": [
        "2. Charger le jeu de données et visualisation"
      ]
    },
    {
      "cell_type": "code",
      "execution_count": null,
      "id": "81f51094",
      "metadata": {
        "id": "81f51094"
      },
      "outputs": [],
      "source": [
        "data = pd.read_csv(\"C:/Users/LENOVO/Desktop/Enquete_Eau/questionnaireDonnees.csv\")"
      ]
    },
    {
      "cell_type": "code",
      "execution_count": null,
      "id": "4c97c56b",
      "metadata": {
        "scrolled": true,
        "id": "4c97c56b",
        "outputId": "16a99d66-273a-488f-ce3d-3ed2c9389f7b"
      },
      "outputs": [
        {
          "data": {
            "text/html": [
              "<div>\n",
              "<style scoped>\n",
              "    .dataframe tbody tr th:only-of-type {\n",
              "        vertical-align: middle;\n",
              "    }\n",
              "\n",
              "    .dataframe tbody tr th {\n",
              "        vertical-align: top;\n",
              "    }\n",
              "\n",
              "    .dataframe thead th {\n",
              "        text-align: right;\n",
              "    }\n",
              "</style>\n",
              "<table border=\"1\" class=\"dataframe\">\n",
              "  <thead>\n",
              "    <tr style=\"text-align: right;\">\n",
              "      <th></th>\n",
              "      <th>nomPrenom</th>\n",
              "      <th>sexe</th>\n",
              "      <th>Quartier</th>\n",
              "      <th>situationMatrimoniale</th>\n",
              "      <th>niveau d'etude</th>\n",
              "      <th>secteur d'activite</th>\n",
              "      <th>activite principale</th>\n",
              "      <th>habiteDansQuartierDeResidence</th>\n",
              "      <th>nomQuartier</th>\n",
              "      <th>ancienneteQuartier</th>\n",
              "      <th>...</th>\n",
              "      <th>Action2Campagne</th>\n",
              "      <th>Action2Forage</th>\n",
              "      <th>Action2Autres</th>\n",
              "      <th>Unnamed: 250</th>\n",
              "      <th>Unnamed: 251</th>\n",
              "      <th>Unnamed: 252</th>\n",
              "      <th>Unnamed: 253</th>\n",
              "      <th>Unnamed: 254</th>\n",
              "      <th>Unnamed: 255</th>\n",
              "      <th>Unnamed: 256</th>\n",
              "    </tr>\n",
              "  </thead>\n",
              "  <tbody>\n",
              "    <tr>\n",
              "      <th>0</th>\n",
              "      <td>mbalassa_pouya</td>\n",
              "      <td>m</td>\n",
              "      <td>logbessou</td>\n",
              "      <td>marie</td>\n",
              "      <td>superieur</td>\n",
              "      <td>enseignant</td>\n",
              "      <td>enseignant</td>\n",
              "      <td>oui</td>\n",
              "      <td>logbessou</td>\n",
              "      <td>5</td>\n",
              "      <td>...</td>\n",
              "      <td>1</td>\n",
              "      <td>NaN</td>\n",
              "      <td>1</td>\n",
              "      <td>NaN</td>\n",
              "      <td>NaN</td>\n",
              "      <td>NaN</td>\n",
              "      <td>NaN</td>\n",
              "      <td>NaN</td>\n",
              "      <td>NaN</td>\n",
              "      <td>NaN</td>\n",
              "    </tr>\n",
              "    <tr>\n",
              "      <th>1</th>\n",
              "      <td>ingueza_moussinga_II</td>\n",
              "      <td>m</td>\n",
              "      <td>chekotto_immeuble_T</td>\n",
              "      <td>marie</td>\n",
              "      <td>superieur</td>\n",
              "      <td>services</td>\n",
              "      <td>enseignement</td>\n",
              "      <td>oui</td>\n",
              "      <td>cite_kotto</td>\n",
              "      <td>10</td>\n",
              "      <td>...</td>\n",
              "      <td>0</td>\n",
              "      <td>0</td>\n",
              "      <td>0</td>\n",
              "      <td>0</td>\n",
              "      <td>0.0</td>\n",
              "      <td>NaN</td>\n",
              "      <td>NaN</td>\n",
              "      <td>NaN</td>\n",
              "      <td>NaN</td>\n",
              "      <td>NaN</td>\n",
              "    </tr>\n",
              "    <tr>\n",
              "      <th>2</th>\n",
              "      <td>nguimbou_raphael</td>\n",
              "      <td>m</td>\n",
              "      <td>logpom</td>\n",
              "      <td>marie</td>\n",
              "      <td>superieur</td>\n",
              "      <td>enseignant</td>\n",
              "      <td>/</td>\n",
              "      <td>oui</td>\n",
              "      <td>logpom</td>\n",
              "      <td>5_a_10</td>\n",
              "      <td>...</td>\n",
              "      <td>0</td>\n",
              "      <td>0</td>\n",
              "      <td>0</td>\n",
              "      <td>NaN</td>\n",
              "      <td>NaN</td>\n",
              "      <td>NaN</td>\n",
              "      <td>NaN</td>\n",
              "      <td>NaN</td>\n",
              "      <td>NaN</td>\n",
              "      <td>NaN</td>\n",
              "    </tr>\n",
              "    <tr>\n",
              "      <th>3</th>\n",
              "      <td>lemoufouet_donfack_sonia</td>\n",
              "      <td>f</td>\n",
              "      <td>ndog-bong</td>\n",
              "      <td>celibataire</td>\n",
              "      <td>/</td>\n",
              "      <td>eleve</td>\n",
              "      <td>/</td>\n",
              "      <td>oui</td>\n",
              "      <td>ndog-bong</td>\n",
              "      <td>10_a_15</td>\n",
              "      <td>...</td>\n",
              "      <td>0</td>\n",
              "      <td>1</td>\n",
              "      <td>0</td>\n",
              "      <td>NaN</td>\n",
              "      <td>NaN</td>\n",
              "      <td>NaN</td>\n",
              "      <td>NaN</td>\n",
              "      <td>NaN</td>\n",
              "      <td>NaN</td>\n",
              "      <td>NaN</td>\n",
              "    </tr>\n",
              "    <tr>\n",
              "      <th>4</th>\n",
              "      <td>gabriel_nwambo</td>\n",
              "      <td>m</td>\n",
              "      <td>ndog-possi_II</td>\n",
              "      <td>marie</td>\n",
              "      <td>superieur</td>\n",
              "      <td>enseignement</td>\n",
              "      <td>/</td>\n",
              "      <td>non</td>\n",
              "      <td>/</td>\n",
              "      <td>/</td>\n",
              "      <td>...</td>\n",
              "      <td>0</td>\n",
              "      <td>1</td>\n",
              "      <td>0</td>\n",
              "      <td>NaN</td>\n",
              "      <td>NaN</td>\n",
              "      <td>NaN</td>\n",
              "      <td>NaN</td>\n",
              "      <td>NaN</td>\n",
              "      <td>NaN</td>\n",
              "      <td>NaN</td>\n",
              "    </tr>\n",
              "    <tr>\n",
              "      <th>...</th>\n",
              "      <td>...</td>\n",
              "      <td>...</td>\n",
              "      <td>...</td>\n",
              "      <td>...</td>\n",
              "      <td>...</td>\n",
              "      <td>...</td>\n",
              "      <td>...</td>\n",
              "      <td>...</td>\n",
              "      <td>...</td>\n",
              "      <td>...</td>\n",
              "      <td>...</td>\n",
              "      <td>...</td>\n",
              "      <td>...</td>\n",
              "      <td>...</td>\n",
              "      <td>...</td>\n",
              "      <td>...</td>\n",
              "      <td>...</td>\n",
              "      <td>...</td>\n",
              "      <td>...</td>\n",
              "      <td>...</td>\n",
              "      <td>...</td>\n",
              "    </tr>\n",
              "    <tr>\n",
              "      <th>68</th>\n",
              "      <td>Atoundem_Zebaze_william</td>\n",
              "      <td>M</td>\n",
              "      <td>Logbessou</td>\n",
              "      <td>C</td>\n",
              "      <td>Superieur</td>\n",
              "      <td>Etudiant</td>\n",
              "      <td>Etude</td>\n",
              "      <td>oui</td>\n",
              "      <td>Logbessou</td>\n",
              "      <td>5</td>\n",
              "      <td>...</td>\n",
              "      <td>0</td>\n",
              "      <td>0</td>\n",
              "      <td>0</td>\n",
              "      <td>NaN</td>\n",
              "      <td>NaN</td>\n",
              "      <td>NaN</td>\n",
              "      <td>NaN</td>\n",
              "      <td>NaN</td>\n",
              "      <td>NaN</td>\n",
              "      <td>NaN</td>\n",
              "    </tr>\n",
              "    <tr>\n",
              "      <th>69</th>\n",
              "      <td>Zebaze_theophile</td>\n",
              "      <td>M</td>\n",
              "      <td>Logbessou</td>\n",
              "      <td>M</td>\n",
              "      <td>superieur</td>\n",
              "      <td>service</td>\n",
              "      <td>Agent-d'etat</td>\n",
              "      <td>oui</td>\n",
              "      <td>Logbessou-Istdi</td>\n",
              "      <td>10</td>\n",
              "      <td>...</td>\n",
              "      <td>1</td>\n",
              "      <td>1</td>\n",
              "      <td>0</td>\n",
              "      <td>NaN</td>\n",
              "      <td>NaN</td>\n",
              "      <td>NaN</td>\n",
              "      <td>NaN</td>\n",
              "      <td>NaN</td>\n",
              "      <td>NaN</td>\n",
              "      <td>NaN</td>\n",
              "    </tr>\n",
              "    <tr>\n",
              "      <th>70</th>\n",
              "      <td>Zebaze_Sonia</td>\n",
              "      <td>F</td>\n",
              "      <td>Logbessou</td>\n",
              "      <td>C</td>\n",
              "      <td>superieur</td>\n",
              "      <td>medecine</td>\n",
              "      <td>Culture-de-l?gumes</td>\n",
              "      <td>oui</td>\n",
              "      <td>Loubessou</td>\n",
              "      <td>5</td>\n",
              "      <td>...</td>\n",
              "      <td>/</td>\n",
              "      <td>/</td>\n",
              "      <td>/</td>\n",
              "      <td>NaN</td>\n",
              "      <td>NaN</td>\n",
              "      <td>NaN</td>\n",
              "      <td>NaN</td>\n",
              "      <td>NaN</td>\n",
              "      <td>NaN</td>\n",
              "      <td>NaN</td>\n",
              "    </tr>\n",
              "    <tr>\n",
              "      <th>71</th>\n",
              "      <td>Solabot_ghislain</td>\n",
              "      <td>F</td>\n",
              "      <td>Bonamoussadi</td>\n",
              "      <td>M</td>\n",
              "      <td>superieur</td>\n",
              "      <td>Service</td>\n",
              "      <td>Agent_d'etat</td>\n",
              "      <td>oui</td>\n",
              "      <td>Bonamoussadi</td>\n",
              "      <td>15</td>\n",
              "      <td>...</td>\n",
              "      <td>1</td>\n",
              "      <td>1</td>\n",
              "      <td>0</td>\n",
              "      <td>NaN</td>\n",
              "      <td>NaN</td>\n",
              "      <td>NaN</td>\n",
              "      <td>NaN</td>\n",
              "      <td>NaN</td>\n",
              "      <td>NaN</td>\n",
              "      <td>NaN</td>\n",
              "    </tr>\n",
              "    <tr>\n",
              "      <th>72</th>\n",
              "      <td>Ahanda_Michel</td>\n",
              "      <td>M</td>\n",
              "      <td>Bonamoussadi</td>\n",
              "      <td>C</td>\n",
              "      <td>superieur</td>\n",
              "      <td>Enseignement</td>\n",
              "      <td>Enseignement</td>\n",
              "      <td>oui</td>\n",
              "      <td>Bonamoussadi</td>\n",
              "      <td>20</td>\n",
              "      <td>...</td>\n",
              "      <td>1</td>\n",
              "      <td>1</td>\n",
              "      <td>1</td>\n",
              "      <td>NaN</td>\n",
              "      <td>NaN</td>\n",
              "      <td>NaN</td>\n",
              "      <td>NaN</td>\n",
              "      <td>NaN</td>\n",
              "      <td>NaN</td>\n",
              "      <td>NaN</td>\n",
              "    </tr>\n",
              "  </tbody>\n",
              "</table>\n",
              "<p>73 rows × 257 columns</p>\n",
              "</div>"
            ],
            "text/plain": [
              "                   nomPrenom sexe             Quartier situationMatrimoniale  \\\n",
              "0             mbalassa_pouya    m            logbessou                 marie   \n",
              "1       ingueza_moussinga_II    m  chekotto_immeuble_T                 marie   \n",
              "2           nguimbou_raphael    m               logpom                 marie   \n",
              "3   lemoufouet_donfack_sonia    f            ndog-bong           celibataire   \n",
              "4             gabriel_nwambo    m        ndog-possi_II                 marie   \n",
              "..                       ...  ...                  ...                   ...   \n",
              "68   Atoundem_Zebaze_william    M            Logbessou                     C   \n",
              "69          Zebaze_theophile    M            Logbessou                     M   \n",
              "70              Zebaze_Sonia    F            Logbessou                     C   \n",
              "71          Solabot_ghislain    F         Bonamoussadi                     M   \n",
              "72             Ahanda_Michel    M         Bonamoussadi                     C   \n",
              "\n",
              "   niveau d'etude secteur d'activite activite principale  \\\n",
              "0       superieur         enseignant          enseignant   \n",
              "1       superieur           services        enseignement   \n",
              "2       superieur         enseignant                   /   \n",
              "3               /              eleve                   /   \n",
              "4       superieur       enseignement                   /   \n",
              "..            ...                ...                 ...   \n",
              "68      Superieur           Etudiant               Etude   \n",
              "69      superieur            service        Agent-d'etat   \n",
              "70      superieur           medecine  Culture-de-l?gumes   \n",
              "71      superieur            Service        Agent_d'etat   \n",
              "72      superieur       Enseignement        Enseignement   \n",
              "\n",
              "   habiteDansQuartierDeResidence      nomQuartier ancienneteQuartier  ...  \\\n",
              "0                            oui        logbessou                  5  ...   \n",
              "1                            oui       cite_kotto                 10  ...   \n",
              "2                            oui           logpom             5_a_10  ...   \n",
              "3                            oui        ndog-bong            10_a_15  ...   \n",
              "4                            non                /                  /  ...   \n",
              "..                           ...              ...                ...  ...   \n",
              "68                           oui        Logbessou                  5  ...   \n",
              "69                           oui  Logbessou-Istdi                 10  ...   \n",
              "70                           oui        Loubessou                  5  ...   \n",
              "71                           oui     Bonamoussadi                 15  ...   \n",
              "72                           oui     Bonamoussadi                 20  ...   \n",
              "\n",
              "   Action2Campagne Action2Forage Action2Autres Unnamed: 250 Unnamed: 251  \\\n",
              "0                1           NaN             1          NaN          NaN   \n",
              "1                0             0             0            0          0.0   \n",
              "2                0             0             0          NaN          NaN   \n",
              "3                0             1             0          NaN          NaN   \n",
              "4                0             1             0          NaN          NaN   \n",
              "..             ...           ...           ...          ...          ...   \n",
              "68               0             0             0          NaN          NaN   \n",
              "69               1             1             0          NaN          NaN   \n",
              "70               /             /             /          NaN          NaN   \n",
              "71               1             1             0          NaN          NaN   \n",
              "72               1             1             1          NaN          NaN   \n",
              "\n",
              "   Unnamed: 252 Unnamed: 253 Unnamed: 254 Unnamed: 255 Unnamed: 256  \n",
              "0           NaN          NaN          NaN          NaN          NaN  \n",
              "1           NaN          NaN          NaN          NaN          NaN  \n",
              "2           NaN          NaN          NaN          NaN          NaN  \n",
              "3           NaN          NaN          NaN          NaN          NaN  \n",
              "4           NaN          NaN          NaN          NaN          NaN  \n",
              "..          ...          ...          ...          ...          ...  \n",
              "68          NaN          NaN          NaN          NaN          NaN  \n",
              "69          NaN          NaN          NaN          NaN          NaN  \n",
              "70          NaN          NaN          NaN          NaN          NaN  \n",
              "71          NaN          NaN          NaN          NaN          NaN  \n",
              "72          NaN          NaN          NaN          NaN          NaN  \n",
              "\n",
              "[73 rows x 257 columns]"
            ]
          },
          "execution_count": 24,
          "metadata": {},
          "output_type": "execute_result"
        }
      ],
      "source": [
        "data"
      ]
    },
    {
      "cell_type": "markdown",
      "id": "f49d6593",
      "metadata": {
        "id": "f49d6593"
      },
      "source": [
        "ici on constate que dans notre jeu de donnees il ya 257 colonnes et 73 lignes"
      ]
    },
    {
      "cell_type": "markdown",
      "id": "2be57fdd",
      "metadata": {
        "id": "2be57fdd"
      },
      "source": [
        "3. Nettoyage des donnes"
      ]
    },
    {
      "cell_type": "markdown",
      "id": "731c21c0",
      "metadata": {
        "id": "731c21c0"
      },
      "source": [
        "affichage d une colonne ayant les valeurs manquantes pour la variable Unnamed: 250"
      ]
    },
    {
      "cell_type": "code",
      "execution_count": null,
      "id": "6c4c44a1",
      "metadata": {
        "id": "6c4c44a1",
        "outputId": "9aaecc44-de6c-4b9d-f166-ef61f7c0a48d"
      },
      "outputs": [
        {
          "name": "stdout",
          "output_type": "stream",
          "text": [
            "0     NaN\n",
            "1       0\n",
            "2     NaN\n",
            "3     NaN\n",
            "4     NaN\n",
            "     ... \n",
            "68    NaN\n",
            "69    NaN\n",
            "70    NaN\n",
            "71    NaN\n",
            "72    NaN\n",
            "Name: Unnamed: 250, Length: 73, dtype: object\n"
          ]
        }
      ],
      "source": [
        "print(data[\"Unnamed: 250\"])"
      ]
    },
    {
      "cell_type": "markdown",
      "id": "4bc601ba",
      "metadata": {
        "id": "4bc601ba"
      },
      "source": [
        "afficher les valeurs null"
      ]
    },
    {
      "cell_type": "code",
      "execution_count": null,
      "id": "306720a5",
      "metadata": {
        "id": "306720a5",
        "outputId": "f5d8c45b-43d2-4e7f-94bb-d64edecae91c"
      },
      "outputs": [
        {
          "name": "stdout",
          "output_type": "stream",
          "text": [
            "0      True\n",
            "1     False\n",
            "2      True\n",
            "3      True\n",
            "4      True\n",
            "      ...  \n",
            "68     True\n",
            "69     True\n",
            "70     True\n",
            "71     True\n",
            "72     True\n",
            "Name: Unnamed: 250, Length: 73, dtype: bool\n"
          ]
        }
      ],
      "source": [
        "print(data[\"Unnamed: 250\"].isnull())"
      ]
    },
    {
      "cell_type": "markdown",
      "id": "d1acb4f1",
      "metadata": {
        "id": "d1acb4f1"
      },
      "source": [
        "le nombre totale de valeurs manquantes pour que caracteristique"
      ]
    },
    {
      "cell_type": "code",
      "execution_count": null,
      "id": "edbe857f",
      "metadata": {
        "scrolled": true,
        "id": "edbe857f",
        "outputId": "9a8ef267-208d-42a6-a77f-812ec06787c2"
      },
      "outputs": [
        {
          "name": "stdout",
          "output_type": "stream",
          "text": [
            "nomPrenom                 0\n",
            "sexe                      0\n",
            "Quartier                  0\n",
            "situationMatrimoniale     0\n",
            "niveau d'etude            0\n",
            "                         ..\n",
            "Unnamed: 252             72\n",
            "Unnamed: 253             72\n",
            "Unnamed: 254             72\n",
            "Unnamed: 255             72\n",
            "Unnamed: 256             72\n",
            "Length: 257, dtype: int64\n"
          ]
        }
      ],
      "source": [
        "print(data.isnull().sum())"
      ]
    },
    {
      "cell_type": "code",
      "execution_count": null,
      "id": "01c4b593",
      "metadata": {
        "id": "01c4b593",
        "outputId": "65d62369-1834-4f56-8f8a-1d9e5780d391"
      },
      "outputs": [
        {
          "name": "stdout",
          "output_type": "stream",
          "text": [
            "501\n"
          ]
        }
      ],
      "source": [
        "# le nombre total de valeur manquantes\n",
        "print(data.isnull().sum().sum()) "
      ]
    },
    {
      "cell_type": "markdown",
      "id": "62c37f54",
      "metadata": {
        "id": "62c37f54"
      },
      "source": [
        "Remplacement des valeurs manquantes par la median"
      ]
    },
    {
      "cell_type": "code",
      "execution_count": null,
      "id": "22ee41b0",
      "metadata": {
        "id": "22ee41b0"
      },
      "outputs": [],
      "source": [
        "data[\"Unnamed: 250\"].fillna(125,inplace=True)"
      ]
    },
    {
      "cell_type": "markdown",
      "id": "74992e6b",
      "metadata": {
        "id": "74992e6b"
      },
      "source": [
        "3. Divisez le jeu de données en X et Y"
      ]
    },
    {
      "cell_type": "code",
      "execution_count": null,
      "id": "5847835a",
      "metadata": {
        "id": "5847835a"
      },
      "outputs": [],
      "source": [
        "X = data.iloc[:, [2, 3]].values\n",
        "y = data.iloc[:, 4].values"
      ]
    },
    {
      "cell_type": "markdown",
      "id": "5d8a4918",
      "metadata": {
        "id": "5d8a4918"
      },
      "source": [
        " 4. Divisez le jeu de données X et Y en l’ensemble d’entraînement et l’ensemble de test"
      ]
    },
    {
      "cell_type": "code",
      "execution_count": null,
      "id": "1c1af499",
      "metadata": {
        "id": "1c1af499"
      },
      "outputs": [],
      "source": [
        "from sklearn.model_selection import train_test_split\n",
        "X_train, X_test, y_train, y_test = train_test_split(X, y, test_size = 0.25, random_state = 0)"
      ]
    },
    {
      "cell_type": "code",
      "execution_count": null,
      "id": "57efebbc",
      "metadata": {
        "id": "57efebbc"
      },
      "outputs": [],
      "source": [
        ""
      ]
    },
    {
      "cell_type": "code",
      "execution_count": null,
      "id": "5a850517",
      "metadata": {
        "id": "5a850517",
        "outputId": "352ad94b-6c52-401e-8d59-514f0b4cf4dd"
      },
      "outputs": [
        {
          "ename": "ValueError",
          "evalue": "could not convert string to float: 'logbessou'",
          "output_type": "error",
          "traceback": [
            "\u001b[1;31m---------------------------------------------------------------------------\u001b[0m",
            "\u001b[1;31mValueError\u001b[0m                                Traceback (most recent call last)",
            "\u001b[1;32m<ipython-input-44-3e025f174d43>\u001b[0m in \u001b[0;36m<module>\u001b[1;34m\u001b[0m\n\u001b[0;32m      2\u001b[0m \u001b[1;32mfrom\u001b[0m \u001b[0mmatplotlib\u001b[0m \u001b[1;32mimport\u001b[0m \u001b[0mpyplot\u001b[0m \u001b[1;32mas\u001b[0m \u001b[0mplt\u001b[0m\u001b[1;33m\u001b[0m\u001b[1;33m\u001b[0m\u001b[0m\n\u001b[0;32m      3\u001b[0m \u001b[1;33m\u001b[0m\u001b[0m\n\u001b[1;32m----> 4\u001b[1;33m \u001b[0mlinked\u001b[0m \u001b[1;33m=\u001b[0m \u001b[0mlinkage\u001b[0m\u001b[1;33m(\u001b[0m\u001b[0mX\u001b[0m\u001b[1;33m,\u001b[0m \u001b[1;34m'single'\u001b[0m\u001b[1;33m)\u001b[0m\u001b[1;33m\u001b[0m\u001b[1;33m\u001b[0m\u001b[0m\n\u001b[0m\u001b[0;32m      5\u001b[0m \u001b[1;33m\u001b[0m\u001b[0m\n\u001b[0;32m      6\u001b[0m \u001b[0mlabelList\u001b[0m \u001b[1;33m=\u001b[0m \u001b[0mrange\u001b[0m\u001b[1;33m(\u001b[0m\u001b[1;36m1\u001b[0m\u001b[1;33m,\u001b[0m \u001b[1;36m11\u001b[0m\u001b[1;33m)\u001b[0m\u001b[1;33m\u001b[0m\u001b[1;33m\u001b[0m\u001b[0m\n",
            "\u001b[1;32m~\\anaconda3\\lib\\site-packages\\scipy\\cluster\\hierarchy.py\u001b[0m in \u001b[0;36mlinkage\u001b[1;34m(y, method, metric, optimal_ordering)\u001b[0m\n\u001b[0;32m   1044\u001b[0m         \u001b[1;32mraise\u001b[0m \u001b[0mValueError\u001b[0m\u001b[1;33m(\u001b[0m\u001b[1;34m\"Invalid method: {0}\"\u001b[0m\u001b[1;33m.\u001b[0m\u001b[0mformat\u001b[0m\u001b[1;33m(\u001b[0m\u001b[0mmethod\u001b[0m\u001b[1;33m)\u001b[0m\u001b[1;33m)\u001b[0m\u001b[1;33m\u001b[0m\u001b[1;33m\u001b[0m\u001b[0m\n\u001b[0;32m   1045\u001b[0m \u001b[1;33m\u001b[0m\u001b[0m\n\u001b[1;32m-> 1046\u001b[1;33m     \u001b[0my\u001b[0m \u001b[1;33m=\u001b[0m \u001b[0m_convert_to_double\u001b[0m\u001b[1;33m(\u001b[0m\u001b[0mnp\u001b[0m\u001b[1;33m.\u001b[0m\u001b[0masarray\u001b[0m\u001b[1;33m(\u001b[0m\u001b[0my\u001b[0m\u001b[1;33m,\u001b[0m \u001b[0morder\u001b[0m\u001b[1;33m=\u001b[0m\u001b[1;34m'c'\u001b[0m\u001b[1;33m)\u001b[0m\u001b[1;33m)\u001b[0m\u001b[1;33m\u001b[0m\u001b[1;33m\u001b[0m\u001b[0m\n\u001b[0m\u001b[0;32m   1047\u001b[0m \u001b[1;33m\u001b[0m\u001b[0m\n\u001b[0;32m   1048\u001b[0m     \u001b[1;32mif\u001b[0m \u001b[0my\u001b[0m\u001b[1;33m.\u001b[0m\u001b[0mndim\u001b[0m \u001b[1;33m==\u001b[0m \u001b[1;36m1\u001b[0m\u001b[1;33m:\u001b[0m\u001b[1;33m\u001b[0m\u001b[1;33m\u001b[0m\u001b[0m\n",
            "\u001b[1;32m~\\anaconda3\\lib\\site-packages\\scipy\\cluster\\hierarchy.py\u001b[0m in \u001b[0;36m_convert_to_double\u001b[1;34m(X)\u001b[0m\n\u001b[0;32m   1566\u001b[0m \u001b[1;32mdef\u001b[0m \u001b[0m_convert_to_double\u001b[0m\u001b[1;33m(\u001b[0m\u001b[0mX\u001b[0m\u001b[1;33m)\u001b[0m\u001b[1;33m:\u001b[0m\u001b[1;33m\u001b[0m\u001b[1;33m\u001b[0m\u001b[0m\n\u001b[0;32m   1567\u001b[0m     \u001b[1;32mif\u001b[0m \u001b[0mX\u001b[0m\u001b[1;33m.\u001b[0m\u001b[0mdtype\u001b[0m \u001b[1;33m!=\u001b[0m \u001b[0mnp\u001b[0m\u001b[1;33m.\u001b[0m\u001b[0mdouble\u001b[0m\u001b[1;33m:\u001b[0m\u001b[1;33m\u001b[0m\u001b[1;33m\u001b[0m\u001b[0m\n\u001b[1;32m-> 1568\u001b[1;33m         \u001b[0mX\u001b[0m \u001b[1;33m=\u001b[0m \u001b[0mX\u001b[0m\u001b[1;33m.\u001b[0m\u001b[0mastype\u001b[0m\u001b[1;33m(\u001b[0m\u001b[0mnp\u001b[0m\u001b[1;33m.\u001b[0m\u001b[0mdouble\u001b[0m\u001b[1;33m)\u001b[0m\u001b[1;33m\u001b[0m\u001b[1;33m\u001b[0m\u001b[0m\n\u001b[0m\u001b[0;32m   1569\u001b[0m     \u001b[1;32mif\u001b[0m \u001b[1;32mnot\u001b[0m \u001b[0mX\u001b[0m\u001b[1;33m.\u001b[0m\u001b[0mflags\u001b[0m\u001b[1;33m.\u001b[0m\u001b[0mcontiguous\u001b[0m\u001b[1;33m:\u001b[0m\u001b[1;33m\u001b[0m\u001b[1;33m\u001b[0m\u001b[0m\n\u001b[0;32m   1570\u001b[0m         \u001b[0mX\u001b[0m \u001b[1;33m=\u001b[0m \u001b[0mX\u001b[0m\u001b[1;33m.\u001b[0m\u001b[0mcopy\u001b[0m\u001b[1;33m(\u001b[0m\u001b[1;33m)\u001b[0m\u001b[1;33m\u001b[0m\u001b[1;33m\u001b[0m\u001b[0m\n",
            "\u001b[1;31mValueError\u001b[0m: could not convert string to float: 'logbessou'"
          ]
        }
      ],
      "source": [
        "from scipy.cluster.hierarchy import dendrogram, linkage\n",
        "from matplotlib import pyplot as plt\n",
        "\n",
        "linked = linkage(X, 'single')\n",
        "\n",
        "labelList = range(1, 11)\n",
        "\n",
        "plt.figure(figsize=(10, 7))\n",
        "dendrogram(linked,\n",
        "            orientation='top',\n",
        "            labels=labelList,\n",
        "            distance_sort='descending',\n",
        "            show_leaf_counts=True)\n",
        "plt.show()"
      ]
    },
    {
      "cell_type": "code",
      "execution_count": null,
      "id": "451abbe3",
      "metadata": {
        "id": "451abbe3"
      },
      "outputs": [],
      "source": [
        ""
      ]
    },
    {
      "cell_type": "code",
      "execution_count": null,
      "id": "d3192421",
      "metadata": {
        "id": "d3192421"
      },
      "outputs": [],
      "source": [
        ""
      ]
    }
  ],
  "metadata": {
    "kernelspec": {
      "display_name": "Python 3",
      "language": "python",
      "name": "python3"
    },
    "language_info": {
      "codemirror_mode": {
        "name": "ipython",
        "version": 3
      },
      "file_extension": ".py",
      "mimetype": "text/x-python",
      "name": "python",
      "nbconvert_exporter": "python",
      "pygments_lexer": "ipython3",
      "version": "3.8.8"
    },
    "colab": {
      "name": "TP_cc.ipynb",
      "provenance": [],
      "include_colab_link": true
    }
  },
  "nbformat": 4,
  "nbformat_minor": 5
}